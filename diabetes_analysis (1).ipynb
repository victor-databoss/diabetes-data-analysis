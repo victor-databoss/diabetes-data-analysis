{
 "cells": [
  {
   "cell_type": "code",
   "execution_count": 20,
   "id": "cac56d57-900a-4ae0-a190-af355c578d7a",
   "metadata": {},
   "outputs": [],
   "source": [
    "import pandas as pd\n",
    "import numpy as np\n",
    "import os\n",
    "import matplotlib.pyplot as plt\n",
    "import seaborn as sns "
   ]
  },
  {
   "cell_type": "code",
   "execution_count": 3,
   "id": "a5e4089b-2856-444a-b80e-d1cc11150cf3",
   "metadata": {},
   "outputs": [
    {
     "name": "stdout",
     "output_type": "stream",
     "text": [
      "File Found!\n"
     ]
    },
    {
     "data": {
      "text/html": [
       "<div>\n",
       "<style scoped>\n",
       "    .dataframe tbody tr th:only-of-type {\n",
       "        vertical-align: middle;\n",
       "    }\n",
       "\n",
       "    .dataframe tbody tr th {\n",
       "        vertical-align: top;\n",
       "    }\n",
       "\n",
       "    .dataframe thead th {\n",
       "        text-align: right;\n",
       "    }\n",
       "</style>\n",
       "<table border=\"1\" class=\"dataframe\">\n",
       "  <thead>\n",
       "    <tr style=\"text-align: right;\">\n",
       "      <th></th>\n",
       "      <th>Pregnancies</th>\n",
       "      <th>Glucose</th>\n",
       "      <th>BloodPressure</th>\n",
       "      <th>SkinThickness</th>\n",
       "      <th>Insulin</th>\n",
       "      <th>BMI</th>\n",
       "      <th>DiabetesPedigreeFunction</th>\n",
       "      <th>Age</th>\n",
       "      <th>Outcome</th>\n",
       "    </tr>\n",
       "  </thead>\n",
       "  <tbody>\n",
       "    <tr>\n",
       "      <th>0</th>\n",
       "      <td>6</td>\n",
       "      <td>148</td>\n",
       "      <td>72</td>\n",
       "      <td>35</td>\n",
       "      <td>0</td>\n",
       "      <td>33.6</td>\n",
       "      <td>0.627</td>\n",
       "      <td>50</td>\n",
       "      <td>1</td>\n",
       "    </tr>\n",
       "    <tr>\n",
       "      <th>1</th>\n",
       "      <td>1</td>\n",
       "      <td>85</td>\n",
       "      <td>66</td>\n",
       "      <td>29</td>\n",
       "      <td>0</td>\n",
       "      <td>26.6</td>\n",
       "      <td>0.351</td>\n",
       "      <td>31</td>\n",
       "      <td>0</td>\n",
       "    </tr>\n",
       "    <tr>\n",
       "      <th>2</th>\n",
       "      <td>8</td>\n",
       "      <td>183</td>\n",
       "      <td>64</td>\n",
       "      <td>0</td>\n",
       "      <td>0</td>\n",
       "      <td>23.3</td>\n",
       "      <td>0.672</td>\n",
       "      <td>32</td>\n",
       "      <td>1</td>\n",
       "    </tr>\n",
       "    <tr>\n",
       "      <th>3</th>\n",
       "      <td>1</td>\n",
       "      <td>89</td>\n",
       "      <td>66</td>\n",
       "      <td>23</td>\n",
       "      <td>94</td>\n",
       "      <td>28.1</td>\n",
       "      <td>0.167</td>\n",
       "      <td>21</td>\n",
       "      <td>0</td>\n",
       "    </tr>\n",
       "    <tr>\n",
       "      <th>4</th>\n",
       "      <td>0</td>\n",
       "      <td>137</td>\n",
       "      <td>40</td>\n",
       "      <td>35</td>\n",
       "      <td>168</td>\n",
       "      <td>43.1</td>\n",
       "      <td>2.288</td>\n",
       "      <td>33</td>\n",
       "      <td>1</td>\n",
       "    </tr>\n",
       "  </tbody>\n",
       "</table>\n",
       "</div>"
      ],
      "text/plain": [
       "   Pregnancies  Glucose  BloodPressure  SkinThickness  Insulin   BMI  \\\n",
       "0            6      148             72             35        0  33.6   \n",
       "1            1       85             66             29        0  26.6   \n",
       "2            8      183             64              0        0  23.3   \n",
       "3            1       89             66             23       94  28.1   \n",
       "4            0      137             40             35      168  43.1   \n",
       "\n",
       "   DiabetesPedigreeFunction  Age  Outcome  \n",
       "0                     0.627   50        1  \n",
       "1                     0.351   31        0  \n",
       "2                     0.672   32        1  \n",
       "3                     0.167   21        0  \n",
       "4                     2.288   33        1  "
      ]
     },
     "execution_count": 3,
     "metadata": {},
     "output_type": "execute_result"
    }
   ],
   "source": [
    "path = r'C:\\Users\\USER\\Documents\\victor thompson-files\\diabetes.csv'\n",
    "\n",
    "if os.path.exists(path):\n",
    "    print('File Found!')\n",
    "else:\n",
    "    ('File not found')\n",
    "\n",
    "df = pd.read_csv(path)\n",
    "df.head()"
   ]
  },
  {
   "cell_type": "code",
   "execution_count": 5,
   "id": "c1bedef3-944a-4f5c-bd7c-885cc507f55c",
   "metadata": {},
   "outputs": [
    {
     "data": {
      "text/html": [
       "<div>\n",
       "<style scoped>\n",
       "    .dataframe tbody tr th:only-of-type {\n",
       "        vertical-align: middle;\n",
       "    }\n",
       "\n",
       "    .dataframe tbody tr th {\n",
       "        vertical-align: top;\n",
       "    }\n",
       "\n",
       "    .dataframe thead th {\n",
       "        text-align: right;\n",
       "    }\n",
       "</style>\n",
       "<table border=\"1\" class=\"dataframe\">\n",
       "  <thead>\n",
       "    <tr style=\"text-align: right;\">\n",
       "      <th></th>\n",
       "      <th>Pregnancies</th>\n",
       "      <th>Glucose</th>\n",
       "      <th>BloodPressure</th>\n",
       "      <th>SkinThickness</th>\n",
       "      <th>Insulin</th>\n",
       "      <th>BMI</th>\n",
       "      <th>DiabetesPedigreeFunction</th>\n",
       "      <th>Age</th>\n",
       "      <th>Outcome</th>\n",
       "    </tr>\n",
       "  </thead>\n",
       "  <tbody>\n",
       "    <tr>\n",
       "      <th>0</th>\n",
       "      <td>6</td>\n",
       "      <td>148.0</td>\n",
       "      <td>72.0</td>\n",
       "      <td>35.00000</td>\n",
       "      <td>155.548223</td>\n",
       "      <td>33.6</td>\n",
       "      <td>0.627</td>\n",
       "      <td>50</td>\n",
       "      <td>1</td>\n",
       "    </tr>\n",
       "    <tr>\n",
       "      <th>1</th>\n",
       "      <td>1</td>\n",
       "      <td>85.0</td>\n",
       "      <td>66.0</td>\n",
       "      <td>29.00000</td>\n",
       "      <td>155.548223</td>\n",
       "      <td>26.6</td>\n",
       "      <td>0.351</td>\n",
       "      <td>31</td>\n",
       "      <td>0</td>\n",
       "    </tr>\n",
       "    <tr>\n",
       "      <th>2</th>\n",
       "      <td>8</td>\n",
       "      <td>183.0</td>\n",
       "      <td>64.0</td>\n",
       "      <td>29.15342</td>\n",
       "      <td>155.548223</td>\n",
       "      <td>23.3</td>\n",
       "      <td>0.672</td>\n",
       "      <td>32</td>\n",
       "      <td>1</td>\n",
       "    </tr>\n",
       "    <tr>\n",
       "      <th>3</th>\n",
       "      <td>1</td>\n",
       "      <td>89.0</td>\n",
       "      <td>66.0</td>\n",
       "      <td>23.00000</td>\n",
       "      <td>94.000000</td>\n",
       "      <td>28.1</td>\n",
       "      <td>0.167</td>\n",
       "      <td>21</td>\n",
       "      <td>0</td>\n",
       "    </tr>\n",
       "    <tr>\n",
       "      <th>4</th>\n",
       "      <td>0</td>\n",
       "      <td>137.0</td>\n",
       "      <td>40.0</td>\n",
       "      <td>35.00000</td>\n",
       "      <td>168.000000</td>\n",
       "      <td>43.1</td>\n",
       "      <td>2.288</td>\n",
       "      <td>33</td>\n",
       "      <td>1</td>\n",
       "    </tr>\n",
       "  </tbody>\n",
       "</table>\n",
       "</div>"
      ],
      "text/plain": [
       "   Pregnancies  Glucose  BloodPressure  SkinThickness     Insulin   BMI  \\\n",
       "0            6    148.0           72.0       35.00000  155.548223  33.6   \n",
       "1            1     85.0           66.0       29.00000  155.548223  26.6   \n",
       "2            8    183.0           64.0       29.15342  155.548223  23.3   \n",
       "3            1     89.0           66.0       23.00000   94.000000  28.1   \n",
       "4            0    137.0           40.0       35.00000  168.000000  43.1   \n",
       "\n",
       "   DiabetesPedigreeFunction  Age  Outcome  \n",
       "0                     0.627   50        1  \n",
       "1                     0.351   31        0  \n",
       "2                     0.672   32        1  \n",
       "3                     0.167   21        0  \n",
       "4                     2.288   33        1  "
      ]
     },
     "execution_count": 5,
     "metadata": {},
     "output_type": "execute_result"
    }
   ],
   "source": [
    "cols_with_zeros = ['Glucose', 'BloodPressure', 'SkinThickness', 'Insulin', 'BMI']\n",
    "\n",
    "df[cols_with_zeros] = df[cols_with_zeros].replace({0:np.nan})\n",
    "\n",
    "df.fillna(df[cols_with_zeros].mean(), inplace=True)\n",
    "\n",
    "df.round(1)\n",
    "\n",
    "df.head()"
   ]
  },
  {
   "cell_type": "code",
   "execution_count": null,
   "id": "d5717662-1ac0-408f-a99b-f9458e96fac7",
   "metadata": {},
   "outputs": [],
   "source": []
  },
  {
   "cell_type": "markdown",
   "id": "dc72fcd5-6e37-4e1d-8eb5-9d8f93b581f6",
   "metadata": {},
   "source": [
    "# 1.  Calculate the average, minimun, and maximum value for Glucose, BloodPressure, BMI, Age"
   ]
  },
  {
   "cell_type": "code",
   "execution_count": 6,
   "id": "8ce65625-a664-41e7-acf5-cbeaf2447834",
   "metadata": {},
   "outputs": [
    {
     "data": {
      "text/html": [
       "<div>\n",
       "<style scoped>\n",
       "    .dataframe tbody tr th:only-of-type {\n",
       "        vertical-align: middle;\n",
       "    }\n",
       "\n",
       "    .dataframe tbody tr th {\n",
       "        vertical-align: top;\n",
       "    }\n",
       "\n",
       "    .dataframe thead th {\n",
       "        text-align: right;\n",
       "    }\n",
       "</style>\n",
       "<table border=\"1\" class=\"dataframe\">\n",
       "  <thead>\n",
       "    <tr style=\"text-align: right;\">\n",
       "      <th></th>\n",
       "      <th>Glucose</th>\n",
       "      <th>BloodPressure</th>\n",
       "      <th>BMI</th>\n",
       "      <th>Age</th>\n",
       "    </tr>\n",
       "  </thead>\n",
       "  <tbody>\n",
       "    <tr>\n",
       "      <th>mean</th>\n",
       "      <td>121.686763</td>\n",
       "      <td>72.405184</td>\n",
       "      <td>32.457464</td>\n",
       "      <td>33.240885</td>\n",
       "    </tr>\n",
       "    <tr>\n",
       "      <th>min</th>\n",
       "      <td>44.000000</td>\n",
       "      <td>24.000000</td>\n",
       "      <td>18.200000</td>\n",
       "      <td>21.000000</td>\n",
       "    </tr>\n",
       "    <tr>\n",
       "      <th>max</th>\n",
       "      <td>199.000000</td>\n",
       "      <td>122.000000</td>\n",
       "      <td>67.100000</td>\n",
       "      <td>81.000000</td>\n",
       "    </tr>\n",
       "  </tbody>\n",
       "</table>\n",
       "</div>"
      ],
      "text/plain": [
       "         Glucose  BloodPressure        BMI        Age\n",
       "mean  121.686763      72.405184  32.457464  33.240885\n",
       "min    44.000000      24.000000  18.200000  21.000000\n",
       "max   199.000000     122.000000  67.100000  81.000000"
      ]
     },
     "execution_count": 6,
     "metadata": {},
     "output_type": "execute_result"
    }
   ],
   "source": [
    "metrics_stats = df.agg({\n",
    "    'Glucose': ['mean', 'min', 'max'],\n",
    "    'BloodPressure': ['mean', 'min', 'max'],\n",
    "    'BMI': ['mean', 'min', 'max'],\n",
    "    'Age': ['mean', 'min', 'max']\n",
    "})\n",
    "\n",
    "metrics_stats"
   ]
  },
  {
   "cell_type": "markdown",
   "id": "91ea9630-4306-43c5-8d15-3f88acc73423",
   "metadata": {},
   "source": [
    "# 2. Find the total number of patients "
   ]
  },
  {
   "cell_type": "code",
   "execution_count": 7,
   "id": "71c49599-1d89-43c2-bb97-50ffbc73dcc0",
   "metadata": {},
   "outputs": [
    {
     "data": {
      "text/plain": [
       "768"
      ]
     },
     "execution_count": 7,
     "metadata": {},
     "output_type": "execute_result"
    }
   ],
   "source": [
    "df.shape[0]"
   ]
  },
  {
   "cell_type": "markdown",
   "id": "3c2d4821-4d2e-4d16-ad93-8c2c549cfe6a",
   "metadata": {},
   "source": [
    "# 3. How many patients have diabetes (Outcome=1)?"
   ]
  },
  {
   "cell_type": "code",
   "execution_count": 8,
   "id": "112192ef-83fc-4685-9089-f499c2a7ea04",
   "metadata": {},
   "outputs": [
    {
     "data": {
      "text/plain": [
       "268"
      ]
     },
     "execution_count": 8,
     "metadata": {},
     "output_type": "execute_result"
    }
   ],
   "source": [
    "df[df['Outcome']==1].shape[0]"
   ]
  },
  {
   "cell_type": "markdown",
   "id": "b5260fb7-7766-4b1d-b449-ebdbd07d1325",
   "metadata": {},
   "source": [
    "# 4. Distribution of number of pregnancies"
   ]
  },
  {
   "cell_type": "code",
   "execution_count": 9,
   "id": "628f8f12-6588-483b-8c28-db71fdf6f92c",
   "metadata": {},
   "outputs": [
    {
     "data": {
      "text/plain": [
       "Pregnancies\n",
       "1     135\n",
       "0     111\n",
       "2     103\n",
       "3      75\n",
       "4      68\n",
       "5      57\n",
       "6      50\n",
       "7      45\n",
       "8      38\n",
       "9      28\n",
       "10     24\n",
       "11     11\n",
       "13     10\n",
       "12      9\n",
       "14      2\n",
       "15      1\n",
       "17      1\n",
       "Name: count, dtype: int64"
      ]
     },
     "execution_count": 9,
     "metadata": {},
     "output_type": "execute_result"
    }
   ],
   "source": [
    "df.value_counts('Pregnancies')"
   ]
  },
  {
   "cell_type": "markdown",
   "id": "a53a2121-947b-4165-a2d9-3e16cc54ba83",
   "metadata": {},
   "source": [
    "# 5. Average glucose level for patients with and without diabetes"
   ]
  },
  {
   "cell_type": "code",
   "execution_count": 18,
   "id": "246a404d-718b-45e3-9bfe-23121f62718a",
   "metadata": {},
   "outputs": [
    {
     "data": {
      "image/png": "[encoded data removed]",
      "text/plain": [
       "<Figure size 600x400 with 1 Axes>"
      ]
     },
     "metadata": {},
     "output_type": "display_data"
    }
   ],
   "source": [
    "avg_glucose = df.groupby('Outcome')['Glucose'].mean().reset_index()\n",
    "\n",
    "\n",
    "plt.figure(figsize=(6,4))\n",
    "sns.barplot(x='Outcome', y='Glucose',  hue='Outcome', data=avg_glucose, palette='Set2')\n",
    "plt.title(\"Average Glucose by Diabetes Outcome\")\n",
    "plt.xlabel('Diabetes Outcome')\n",
    "plt.ylabel('Average Glucose')\n",
    "plt.xticks([0,1],['No Diabets', 'Diabetes'])\n",
    "plt.show()"
   ]
  },
  {
   "cell_type": "markdown",
   "id": "976d557f-ba2c-4322-b227-ea4dae89072e",
   "metadata": {},
   "source": [
    "# 6. Find the average BMI for patients with and without diabetics."
   ]
  },
  {
   "cell_type": "code",
   "execution_count": 17,
   "id": "39eed0aa-1e36-4b82-a33e-559faba10420",
   "metadata": {},
   "outputs": [
    {
     "data": {
      "image/png": "[encoded data removed]",
      "text/plain": [
       "<Figure size 600x400 with 1 Axes>"
      ]
     },
     "metadata": {},
     "output_type": "display_data"
    }
   ],
   "source": [
    "import seaborn as sns\n",
    "avg_BMI = df.groupby('Outcome')['BMI'].mean().reset_index()\n",
    "\n",
    "\n",
    "plt.figure(figsize=(6,4))\n",
    "sns.barplot(x='Outcome', y='BMI', hue='Outcome', data=avg_BMI, palette='Set2')\n",
    "plt.title('Average BMI by Diabetes Outcome')\n",
    "plt.xlabel('Diabetes Outcome')\n",
    "plt.ylabel('Average BMI')\n",
    "plt.xticks([0,1], ['No Diabetes', 'Diabetes'])\n",
    "plt.show()"
   ]
  },
  {
   "cell_type": "markdown",
   "id": "4440ed93-a41f-44ec-8daf-f600c30c270f",
   "metadata": {},
   "source": [
    "# 7. What is the diabetes prevalence by age group?"
   ]
  },
  {
   "cell_type": "code",
   "execution_count": 237,
   "id": "78f63fa7-cec2-4266-b8c2-56fc552a9d91",
   "metadata": {
    "scrolled": true
   },
   "outputs": [
    {
     "data": {
      "text/plain": [
       "AgeGroup\n",
       "<30      19.346049\n",
       "30-39    47.252747\n",
       "40+      50.684932\n",
       "Name: Outcome, dtype: float64"
      ]
     },
     "execution_count": 237,
     "metadata": {},
     "output_type": "execute_result"
    }
   ],
   "source": [
    "df['Age'] = pd.to_numeric(df['Age'], errors='coerce')\n",
    "\n",
    "bins = [0, 29, 39, float('inf')]\n",
    "labels = ['<30', '30-39', '40+']\n",
    "df['AgeGroup'] = pd.cut(df['Age'], bins=bins, labels=labels, right=False)\n",
    "\n",
    "prevalence_by_age_group = df.groupby('AgeGroup', observed=True)['Outcome'].mean()*100\n",
    "prevalence_by_age_group\n",
    "\n"
   ]
  },
  {
   "cell_type": "markdown",
   "id": "f3d73ff3-e96f-4dbf-bf9c-e7ac3cd93dac",
   "metadata": {},
   "source": [
    "# 8. Compare glucose levels between diabetics and non-diabetics visually"
   ]
  },
  {
   "cell_type": "code",
   "execution_count": 263,
   "id": "393e7ad8-e774-4aca-8e33-cf62b82ac0e7",
   "metadata": {},
   "outputs": [
    {
     "data": {
      "image/png": "[encoded data removed]",
      "text/plain": [
       "<Figure size 640x480 with 1 Axes>"
      ]
     },
     "metadata": {},
     "output_type": "display_data"
    }
   ],
   "source": [
    "sns.boxplot(x='Outcome',\n",
    "            y='Glucose',\n",
    "            data=df,\n",
    "            palette ='Set2',\n",
    "            hue ='Outcome'\n",
    "           )\n",
    "plt.title('Glucose level by Diabetes Outcome')\n",
    "plt.xticks([0,1],['No Diabetes', 'Diabetes'])\n",
    "plt.show()"
   ]
  },
  {
   "cell_type": "markdown",
   "id": "b9c9f246-00fe-4a12-842c-cb373636b3dc",
   "metadata": {},
   "source": [
    "# 9. Correlation between Glucose and Diabetes"
   ]
  },
  {
   "cell_type": "code",
   "execution_count": 260,
   "id": "1d5cf063-5d2a-4bf2-8180-b1326f5810f2",
   "metadata": {
    "scrolled": true
   },
   "outputs": [
    {
     "name": "stdout",
     "output_type": "stream",
     "text": [
      "Correlation betweeen Glucose and Diabetes: 0.49\n"
     ]
    }
   ],
   "source": [
    "corr = df[['Glucose', 'Outcome']].corr().iloc[0,1]\n",
    "print(f\"Correlation betweeen Glucose and Diabetes: {corr:.2f}\")"
   ]
  },
  {
   "cell_type": "code",
   "execution_count": 264,
   "id": "42f33646-a83b-4958-8df0-c358eccf41a9",
   "metadata": {},
   "outputs": [
    {
     "name": "stdout",
     "output_type": "stream",
     "text": [
      "\n",
      "Insights:\n",
      "1. Older patients have a higher diabetes prevalence.\n",
      "2. Glucose >= 140 strongly linked with diabetes.\n",
      "3. Average BMI is higher among diabetics.\n",
      "4. Younger patients (<30)have lower prevalence but still at risk with highBMI.\n",
      "\n"
     ]
    }
   ],
   "source": [
    "print(\"\"\"\n",
    "Insights:\n",
    "1. Older patients have a higher diabetes prevalence.\n",
    "2. Glucose >= 140 strongly linked with diabetes.\n",
    "3. Average BMI is higher among diabetics.\n",
    "4. Younger patients (<30)have lower prevalence but still at risk with highBMI.\n",
    "\"\"\")"
   ]
  },
  {
   "cell_type": "code",
   "execution_count": null,
   "id": "25c4e3a9-b6f7-4d3c-943c-a8ec13aa5e28",
   "metadata": {},
   "outputs": [],
   "source": []
  },
  {
   "cell_type": "code",
   "execution_count": null,
   "id": "641c4bfa-81a8-4404-b9ca-d5a867d73208",
   "metadata": {},
   "outputs": [],
   "source": []
  }
 ],
 "metadata": {
  "kernelspec": {
   "display_name": "Python 3 (ipykernel)",
   "language": "python",
   "name": "python3"
  },
  "language_info": {
   "codemirror_mode": {
    "name": "ipython",
    "version": 3
   },
   "file_extension": ".py",
   "mimetype": "text/x-python",
   "name": "python",
   "nbconvert_exporter": "python",
   "pygments_lexer": "ipython3",
   "version": "3.11.0"
  }
 },
 "nbformat": 4,
 "nbformat_minor": 5
}
